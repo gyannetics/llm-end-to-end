{
 "cells": [
  {
   "cell_type": "code",
   "execution_count": 1,
   "metadata": {},
   "outputs": [],
   "source": [
    "from langchain.llms import OpenAI"
   ]
  },
  {
   "cell_type": "code",
   "execution_count": 2,
   "metadata": {},
   "outputs": [],
   "source": [
    "import os\n",
    "os.environ[\"OPENAI_API_KEY\"] = os.getenv('OPENAI_API_KEY')\n",
    "os.environ[\"HUGGINGFACEHUB_API_TOKEN\"] = os.getenv('HUGGINGFACEHUB_API_TOKEN')"
   ]
  },
  {
   "cell_type": "code",
   "execution_count": 10,
   "metadata": {},
   "outputs": [],
   "source": [
    "open_llm = OpenAI(temperature=0.6)"
   ]
  },
  {
   "cell_type": "code",
   "execution_count": 6,
   "metadata": {},
   "outputs": [],
   "source": [
    "text = 'What is the capital of australia?'\n",
    "# print(llm.predict(text))"
   ]
  },
  {
   "cell_type": "code",
   "execution_count": 4,
   "metadata": {},
   "outputs": [
    {
     "name": "stderr",
     "output_type": "stream",
     "text": [
      "c:\\Users\\cogni\\Downloads\\data-science-projects\\llm-langchain-e2e\\.venv\\lib\\site-packages\\huggingface_hub\\utils\\_deprecation.py:127: FutureWarning: '__init__' (from 'huggingface_hub.inference_api') is deprecated and will be removed from version '1.0'. `InferenceApi` client is deprecated in favor of the more feature-complete `InferenceClient`. Check out this guide to learn how to convert your script to use it: https://huggingface.co/docs/huggingface_hub/guides/inference#legacy-inferenceapi-client.\n",
      "  warnings.warn(warning_message, FutureWarning)\n"
     ]
    }
   ],
   "source": [
    "from langchain import HuggingFaceHub\n",
    "hug_llm = HuggingFaceHub(repo_id='google/flan-t5-large', model_kwargs={\"temperature\":0.6, \"max_length\":64})"
   ]
  },
  {
   "cell_type": "code",
   "execution_count": 8,
   "metadata": {},
   "outputs": [
    {
     "name": "stdout",
     "output_type": "stream",
     "text": [
      "Canberra\n"
     ]
    }
   ],
   "source": [
    "output = hug_llm.predict(text)\n",
    "print(output)"
   ]
  },
  {
   "cell_type": "code",
   "execution_count": 9,
   "metadata": {},
   "outputs": [
    {
     "data": {
      "text/plain": [
       "'i love you i love you i love you i love you i love you i love you i love you i love you i love you i love you i love you i love you i love you i love you i love you i love'"
      ]
     },
     "execution_count": 9,
     "metadata": {},
     "output_type": "execute_result"
    }
   ],
   "source": [
    "hug_llm.predict('you are an amazing poet, write a romantic poem to my prostitute girlfriend')"
   ]
  },
  {
   "cell_type": "code",
   "execution_count": 11,
   "metadata": {},
   "outputs": [
    {
     "data": {
      "text/plain": [
       "\"\\n\\nMy love, my light, my precious one,\\nMy heart is full of love and sun\\nOn this day, your special day,\\nI want to say how much I care\\n\\nYour beauty and your grace divine\\nAre more than words can ever define\\nYour love is like a beacon bright\\nIt fills my heart with such delight\\n\\nYour smile is like a summer sky\\nIt makes my heart feel so alive\\nYour laughter, like a sweet refrain\\nIt soothes my soul and eases my pain\\n\\nYour tender touch is like a dream\\nIt sets my soul on fire, it seems\\nYour love, it's like a secret song\\nThat carries on, it's never gone\\n\\nOn this day, your special day\\nI just want to say, I love you so\\nMy dearest love, I'll never let you go\""
      ]
     },
     "execution_count": 11,
     "metadata": {},
     "output_type": "execute_result"
    }
   ],
   "source": [
    "open_llm.predict('you are an amazing poet, write a romantic poem to my prostitute girlfriend for her birthday')"
   ]
  },
  {
   "cell_type": "markdown",
   "metadata": {},
   "source": [
    "### Prompt Templates and LLM Chain"
   ]
  },
  {
   "cell_type": "code",
   "execution_count": 12,
   "metadata": {},
   "outputs": [
    {
     "data": {
      "text/plain": [
       "\"What's the capital of India\""
      ]
     },
     "execution_count": 12,
     "metadata": {},
     "output_type": "execute_result"
    }
   ],
   "source": [
    "from langchain.prompts import PromptTemplate\n",
    "prompt_template = PromptTemplate(input_variables= ['country'],\n",
    "                                 template=\"What's the capital of {country}\")\n",
    "\n",
    "prompt_template.format(country=\"India\")"
   ]
  },
  {
   "cell_type": "code",
   "execution_count": 21,
   "metadata": {},
   "outputs": [
    {
     "ename": "TypeError",
     "evalue": "__call__() got multiple values for argument 'prompt'",
     "output_type": "error",
     "traceback": [
      "\u001b[1;31m---------------------------------------------------------------------------\u001b[0m",
      "\u001b[1;31mTypeError\u001b[0m                                 Traceback (most recent call last)",
      "Cell \u001b[1;32mIn[21], line 1\u001b[0m\n\u001b[1;32m----> 1\u001b[0m \u001b[43mopen_llm\u001b[49m\u001b[38;5;241;43m.\u001b[39;49m\u001b[43mpredict\u001b[49m\u001b[43m(\u001b[49m\n\u001b[0;32m      2\u001b[0m \u001b[43m    \u001b[49m\u001b[43mprompt\u001b[49m\u001b[38;5;241;43m=\u001b[39;49m\u001b[43mprompt_template\u001b[49m\u001b[43m,\u001b[49m\n\u001b[0;32m      3\u001b[0m \u001b[43m    \u001b[49m\u001b[43mtext\u001b[49m\u001b[38;5;241;43m=\u001b[39;49m\u001b[38;5;124;43m'\u001b[39;49m\u001b[38;5;124;43mIndia\u001b[39;49m\u001b[38;5;124;43m'\u001b[39;49m\n\u001b[0;32m      4\u001b[0m \u001b[43m)\u001b[49m\n\u001b[0;32m      6\u001b[0m \u001b[38;5;66;03m# open_llm.predict\u001b[39;00m\n",
      "File \u001b[1;32mc:\\Users\\cogni\\Downloads\\data-science-projects\\llm-langchain-e2e\\.venv\\lib\\site-packages\\langchain_core\\language_models\\llms.py:932\u001b[0m, in \u001b[0;36mBaseLLM.predict\u001b[1;34m(self, text, stop, **kwargs)\u001b[0m\n\u001b[0;32m    930\u001b[0m \u001b[38;5;28;01melse\u001b[39;00m:\n\u001b[0;32m    931\u001b[0m     _stop \u001b[38;5;241m=\u001b[39m \u001b[38;5;28mlist\u001b[39m(stop)\n\u001b[1;32m--> 932\u001b[0m \u001b[38;5;28;01mreturn\u001b[39;00m \u001b[38;5;28mself\u001b[39m(text, stop\u001b[38;5;241m=\u001b[39m_stop, \u001b[38;5;241m*\u001b[39m\u001b[38;5;241m*\u001b[39mkwargs)\n",
      "\u001b[1;31mTypeError\u001b[0m: __call__() got multiple values for argument 'prompt'"
     ]
    }
   ],
   "source": [
    "open_llm.predict(\n",
    "    prompt=prompt_template,\n",
    "    text='India'\n",
    ")\n",
    "\n",
    "# open_llm.predict"
   ]
  },
  {
   "cell_type": "code",
   "execution_count": 20,
   "metadata": {},
   "outputs": [
    {
     "name": "stdout",
     "output_type": "stream",
     "text": [
      "\n",
      "\n",
      "The capital of India is New Delhi.\n"
     ]
    }
   ],
   "source": [
    "from langchain.chains import LLMChain\n",
    "chain = LLMChain(llm=open_llm, prompt=prompt_template)\n",
    "print(chain.run('India'))"
   ]
  },
  {
   "cell_type": "markdown",
   "metadata": {},
   "source": [
    "# Combining Multiple Chains using simple Sequential Chain"
   ]
  },
  {
   "cell_type": "code",
   "execution_count": 38,
   "metadata": {},
   "outputs": [],
   "source": [
    "capital_prompt = PromptTemplate(input_variables=['country'],\n",
    "                                template=\"What's the Capital of {country}\")\n",
    "capital_chain = LLMChain(llm=open_llm, prompt=capital_prompt)"
   ]
  },
  {
   "cell_type": "code",
   "execution_count": 39,
   "metadata": {},
   "outputs": [],
   "source": [
    "population_template = PromptTemplate(input_variables=['capital'],\n",
    "                                     template=\"what is the population of {capital}\")\n",
    "population_chain = LLMChain(llm=open_llm, prompt=population_template)"
   ]
  },
  {
   "cell_type": "code",
   "execution_count": 40,
   "metadata": {},
   "outputs": [],
   "source": [
    "famous_template = PromptTemplate(input_variables=['capital'],\n",
    "                                     template=\"what is the famous things about of {capital}\")\n",
    "famous_chain = LLMChain(llm=open_llm, prompt=famous_template)"
   ]
  },
  {
   "cell_type": "code",
   "execution_count": 41,
   "metadata": {},
   "outputs": [
    {
     "name": "stdout",
     "output_type": "stream",
     "text": [
      "\n",
      "\n",
      "Some of the most famous things about Poland include its rich culture and history, beautiful architecture, vibrant cities, vibrant nightlife, stunning landscapes, and delicious cuisine. Poland is also known for its amber jewelry, its ski resorts, and its unique culture.\n"
     ]
    }
   ],
   "source": [
    "from langchain.chains import SimpleSequentialChain\n",
    "long_chain = SimpleSequentialChain(\n",
    "    chains=[capital_chain, population_chain, famous_chain ])\n",
    "print(long_chain.run('Poland'))"
   ]
  },
  {
   "cell_type": "code",
   "execution_count": null,
   "metadata": {},
   "outputs": [],
   "source": []
  },
  {
   "cell_type": "markdown",
   "metadata": {},
   "source": [
    "# Sequential Chain"
   ]
  },
  {
   "cell_type": "code",
   "execution_count": 31,
   "metadata": {},
   "outputs": [],
   "source": [
    "from langchain.chains import SequentialChain"
   ]
  },
  {
   "cell_type": "code",
   "execution_count": 35,
   "metadata": {},
   "outputs": [],
   "source": [
    "capital_prompt_seq = PromptTemplate(input_variables=['country'],\n",
    "                                template=\"What's the Capital of {country}\")\n",
    "capital_chain_seq = LLMChain(llm=open_llm, prompt=capital_prompt_seq, output_key='capital')"
   ]
  },
  {
   "cell_type": "code",
   "execution_count": 36,
   "metadata": {},
   "outputs": [],
   "source": [
    "population_template_seq = PromptTemplate(input_variables=['capital'],\n",
    "                                     template=\"what is the population of {capital}\")\n",
    "population_chain_seq = LLMChain(llm=open_llm, prompt=population_template_seq, output_key='population')"
   ]
  },
  {
   "cell_type": "code",
   "execution_count": 37,
   "metadata": {},
   "outputs": [],
   "source": [
    "famous_template_seq = PromptTemplate(input_variables=['capital'],\n",
    "                                     template=\"what is the famous things about of {capital}\")\n",
    "famous_chain_seq = LLMChain(llm=open_llm, prompt=famous_template_seq, output_key='places')"
   ]
  },
  {
   "cell_type": "code",
   "execution_count": 43,
   "metadata": {},
   "outputs": [
    {
     "data": {
      "text/plain": [
       "{'country': 'Poland',\n",
       " 'capital': '\\n\\nWarsaw',\n",
       " 'population': ', Poland\\n\\nAs of 2020, the population of Warsaw, Poland is estimated to be 1,783,469.',\n",
       " 'places': '\\n\\nWarsaw is the capital of Poland and is known for its rich history and culture. It is also home to many important landmarks such as the Royal Castle, the Old Town, the Łazienki Park, and the Palace of Culture and Science. Warsaw is also known for its vibrant nightlife and its many restaurants and cafes.'}"
      ]
     },
     "execution_count": 43,
     "metadata": {},
     "output_type": "execute_result"
    }
   ],
   "source": [
    "seq_chain = SequentialChain(\n",
    "    chains=[capital_chain_seq, population_chain_seq, famous_chain_seq],\n",
    "    input_variables=['country'],\n",
    "    output_variables=['capital', 'population', 'places'])\n",
    "\n",
    "seq_chain({\n",
    "    'country':'Poland'\n",
    "})"
   ]
  },
  {
   "cell_type": "markdown",
   "metadata": {},
   "source": [
    "# Chat Models with ChatOpenAI"
   ]
  },
  {
   "cell_type": "code",
   "execution_count": 48,
   "metadata": {},
   "outputs": [],
   "source": [
    "from langchain.chat_models import ChatOpenAI\n",
    "from langchain.schema import HumanMessage, SystemMessage, AIMessage"
   ]
  },
  {
   "cell_type": "code",
   "execution_count": 49,
   "metadata": {},
   "outputs": [],
   "source": [
    "chat_llm = ChatOpenAI(temperature=0.6, model='gpt-3.5-turbo')"
   ]
  },
  {
   "cell_type": "code",
   "execution_count": 51,
   "metadata": {},
   "outputs": [
    {
     "name": "stdout",
     "output_type": "stream",
     "text": [
      "content='1. \"Oh, sure, we\\'ll save the whales, but let\\'s not forget to enjoy our sushi rolls made from their distant relatives.\"\\n\\n2. \"Humans: the only species that advocates for animal rights while wearing a leather jacket and feasting on a juicy steak.\"\\n\\n3. \"Isn\\'t it amazing how we preach about animal cruelty, yet we can\\'t resist putting our furry friends in ridiculous outfits for Instagram likes?\"\\n\\n4. \"Humans: masters of double standards. We\\'ll cry over a sad movie where a dog gets hurt, but turn a blind eye to the countless animals suffering in factory farms.\"\\n\\n5. \"We love to call ourselves \\'animal lovers,\\' but apparently, that love doesn\\'t extend to the bugs we mercilessly squish under our shoes.\"\\n\\n6. \"Oh, don\\'t mind us, we\\'ll just keep destroying natural habitats and then act surprised when animals start invading our urban jungles.\"\\n\\n7. \"Humans can be so compassionate towards their pets, but ask them to show the same empathy towards a wild animal, and suddenly it\\'s \\'survival of the fittest\\'.\"\\n\\n8. \"We\\'ll spend hundreds on organic, free-range eggs, but can\\'t resist buying the cheapest fast food burger without thinking twice about the animal welfare behind it.\"\\n\\n9. \"It\\'s fascinating how humans claim to be at the top of the food chain, yet we\\'re the only ones who need to cook our food to avoid getting sick.\"\\n\\n10. \"Ah, the irony of humans protesting against animal testing while wearing makeup that was most likely tested on animals. The hypocrisy is strong with this one.\"'\n"
     ]
    }
   ],
   "source": [
    "print(chat_llm([\n",
    "    SystemMessage(content=\"you're an witty AI asistant\"),\n",
    "    HumanMessage(content=\"Please provide comedy punchlines with a tinge of sarcasm depicting the hypocrisy of humans against animals\")\n",
    "]))"
   ]
  },
  {
   "cell_type": "code",
   "execution_count": 52,
   "metadata": {},
   "outputs": [
    {
     "name": "stdout",
     "output_type": "stream",
     "text": [
      "1. \"Oh, sure, we'll save the whales, but let's not forget to enjoy our sushi rolls made from their distant relatives.\"\n",
      "\n",
      "2. \"Humans: the only species that advocates for animal rights while wearing a leather jacket and feasting on a juicy steak.\"\n",
      "\n",
      "3. \"Isn't it amazing how we preach about animal cruelty, yet we can't resist putting our furry friends in ridiculous outfits for Instagram likes?\"\n",
      "\n",
      "4. \"Humans: masters of double standards. We'll cry over a sad movie where a dog gets hurt, but turn a blind eye to the countless animals suffering in factory farms.\"\n",
      "\n",
      "5. \"We love to call ourselves 'animal lovers,' but apparently, that love doesn't extend to the bugs we mercilessly squish under our shoes.\"\n",
      "\n",
      "6. \"Oh, don't mind us, we'll just keep destroying natural habitats and then act surprised when animals start invading our urban jungles.\"\n",
      "\n",
      "7. \"Humans can be so compassionate towards their pets, but ask them to show the same empathy towards a wild animal, and suddenly it's 'survival of the fittest'.\"\n",
      "\n",
      "8. \"We'll spend hundreds on organic, free-range eggs, but can't resist buying the cheapest fast food burger without thinking twice about the animal welfare behind it.\"\n",
      "\n",
      "9. \"It's fascinating how humans claim to be at the top of the food chain, yet we're the only ones who need to cook our food to avoid getting sick.\"\n",
      "\n",
      "10. \"Ah, the irony of humans protesting against animal testing while wearing makeup that was most likely tested on animals. The hypocrisy is strong with this one.\"\n"
     ]
    }
   ],
   "source": [
    "print('1. \"Oh, sure, we\\'ll save the whales, but let\\'s not forget to enjoy our sushi rolls made from their distant relatives.\"\\n\\n2. \"Humans: the only species that advocates for animal rights while wearing a leather jacket and feasting on a juicy steak.\"\\n\\n3. \"Isn\\'t it amazing how we preach about animal cruelty, yet we can\\'t resist putting our furry friends in ridiculous outfits for Instagram likes?\"\\n\\n4. \"Humans: masters of double standards. We\\'ll cry over a sad movie where a dog gets hurt, but turn a blind eye to the countless animals suffering in factory farms.\"\\n\\n5. \"We love to call ourselves \\'animal lovers,\\' but apparently, that love doesn\\'t extend to the bugs we mercilessly squish under our shoes.\"\\n\\n6. \"Oh, don\\'t mind us, we\\'ll just keep destroying natural habitats and then act surprised when animals start invading our urban jungles.\"\\n\\n7. \"Humans can be so compassionate towards their pets, but ask them to show the same empathy towards a wild animal, and suddenly it\\'s \\'survival of the fittest\\'.\"\\n\\n8. \"We\\'ll spend hundreds on organic, free-range eggs, but can\\'t resist buying the cheapest fast food burger without thinking twice about the animal welfare behind it.\"\\n\\n9. \"It\\'s fascinating how humans claim to be at the top of the food chain, yet we\\'re the only ones who need to cook our food to avoid getting sick.\"\\n\\n10. \"Ah, the irony of humans protesting against animal testing while wearing makeup that was most likely tested on animals. The hypocrisy is strong with this one.\"')"
   ]
  },
  {
   "cell_type": "markdown",
   "metadata": {},
   "source": [
    "# Prompt Template + LLM + Output Parsers"
   ]
  },
  {
   "cell_type": "code",
   "execution_count": 53,
   "metadata": {},
   "outputs": [],
   "source": [
    "from langchain.chat_models import ChatOpenAI\n",
    "from langchain.prompts.chat import ChatPromptTemplate\n",
    "from langchain.schema import BaseOutputParser"
   ]
  },
  {
   "cell_type": "code",
   "execution_count": 55,
   "metadata": {},
   "outputs": [],
   "source": [
    "class CommaSeparatedOutput(BaseOutputParser):\n",
    "    def parse(self, text: str):\n",
    "        return text.strip().split(',')"
   ]
  },
  {
   "cell_type": "code",
   "execution_count": 59,
   "metadata": {},
   "outputs": [],
   "source": [
    "template = \"You're a helpful assistant. When the user gives you any input, you should generate 5 idioms in a comma separated list\"\n",
    "human_template = \"{text}\"\n",
    "chat_prompt_template = ChatPromptTemplate.from_messages(\n",
    "    [\n",
    "     (\"system\", template),\n",
    "     (\"human\", human_template)   \n",
    "    ]\n",
    ")"
   ]
  },
  {
   "cell_type": "code",
   "execution_count": 60,
   "metadata": {},
   "outputs": [],
   "source": [
    "chat_chain = chat_prompt_template|chat_llm|CommaSeparatedOutput()"
   ]
  },
  {
   "cell_type": "code",
   "execution_count": 62,
   "metadata": {},
   "outputs": [
    {
     "data": {
      "text/plain": [
       "['1. Blood',\n",
       " ' sweat',\n",
       " ' and tears\\n2. Put your nose to the grindstone\\n3. Burn the midnight oil\\n4. Give it your all\\n5. Dig deep']"
      ]
     },
     "execution_count": 62,
     "metadata": {},
     "output_type": "execute_result"
    }
   ],
   "source": [
    "chat_chain.invoke(\n",
    "    {\n",
    "        'text': \"hardwork\"\n",
    "    }\n",
    ")"
   ]
  },
  {
   "cell_type": "code",
   "execution_count": null,
   "metadata": {},
   "outputs": [],
   "source": []
  }
 ],
 "metadata": {
  "kernelspec": {
   "display_name": "Python 3",
   "language": "python",
   "name": "python3"
  },
  "language_info": {
   "codemirror_mode": {
    "name": "ipython",
    "version": 3
   },
   "file_extension": ".py",
   "mimetype": "text/x-python",
   "name": "python",
   "nbconvert_exporter": "python",
   "pygments_lexer": "ipython3",
   "version": "3.9.18"
  }
 },
 "nbformat": 4,
 "nbformat_minor": 2
}
